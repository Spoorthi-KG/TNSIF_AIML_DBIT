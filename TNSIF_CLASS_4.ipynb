{
 "cells": [
  {
   "cell_type": "code",
   "execution_count": 3,
   "id": "be8248a8-6dce-4cd9-bdf3-40f973fa7b86",
   "metadata": {},
   "outputs": [
    {
     "name": "stdout",
     "output_type": "stream",
     "text": [
      "{'harry': 9887566488, 'Sean': 7894561231, 'thomas': 98745632124}\n"
     ]
    },
    {
     "name": "stdin",
     "output_type": "stream",
     "text": [
      "Enter a name: sean\n"
     ]
    },
    {
     "name": "stdout",
     "output_type": "stream",
     "text": [
      "Name not found\n"
     ]
    }
   ],
   "source": [
    "# Program to display contacts in phonebook\n",
    "\n",
    "phonebook ={\"harry\":9887566488, \"Sean\":7894561231, \"thomas\":98745632124}\n",
    "print(phonebook)\n",
    "name = input(\"Enter a name:\")\n",
    "if name in phonebook:\n",
    "    num = int(input(\"Enter the number:\"))\n",
    "    phonebook[name] = num\n",
    "    print(\"Success\")\n",
    "else:\n",
    "    print(\"Name not found\")"
   ]
  },
  {
   "cell_type": "code",
   "execution_count": 4,
   "id": "1357e3e9-8ae4-4d57-9429-4be813a14647",
   "metadata": {},
   "outputs": [
    {
     "name": "stdout",
     "output_type": "stream",
     "text": [
      "{'harry': 9887566488, 'Sean': 7894561231, 'thomas': 98745632124}\n",
      "{'harry': 9887566488, 'Sean': 7894561231, 'thomas': 98745632124, 'Radhika': 454634355}\n",
      "{'harry': 9887566488, 'Sean': 7894561231, 'thomas': 98745632124, 'Radhika': 454634355, 'Amir': 64455}\n"
     ]
    }
   ],
   "source": [
    "# Program to update contacts in phonebook \n",
    "\n",
    "phonebook ={\"harry\":9887566488, \"Sean\":7894561231, \"thomas\":98745632124}\n",
    "print(phonebook)\n",
    "phonebook[\"Radhika\"]=454634355\n",
    "print(phonebook)\n",
    "phonebook.update({\"Amir\":64455})\n",
    "print(phonebook)"
   ]
  },
  {
   "cell_type": "code",
   "execution_count": 11,
   "id": "e67c27a8-83b1-4a4e-95de-a169c261e8eb",
   "metadata": {},
   "outputs": [
    {
     "name": "stdout",
     "output_type": "stream",
     "text": [
      "{'harry': 9887566488, 'Sean': 7894561231, 'thomas': 98745632124}\n"
     ]
    },
    {
     "name": "stdin",
     "output_type": "stream",
     "text": [
      "Enter a name: harry\n"
     ]
    },
    {
     "name": "stdout",
     "output_type": "stream",
     "text": [
      "Deleted Successfully\n",
      "{}\n"
     ]
    }
   ],
   "source": [
    "# Program to delete a contact by name and to clear entire phonebook\n",
    "\n",
    "phonebook ={\"harry\":9887566488, \"Sean\":7894561231, \"thomas\":98745632124}\n",
    "print(phonebook)\n",
    "name = input(\"Enter a name:\")\n",
    "if name in phonebook:\n",
    "    del phonebook[name]\n",
    "    print(\"Deleted Successfully\")\n",
    "else:\n",
    "    print(name, \"was not found\")\n",
    "\n",
    "#del phonebook\n",
    "phonebook.clear()\n",
    "print(phonebook)"
   ]
  },
  {
   "cell_type": "code",
   "execution_count": null,
   "id": "280b21fb-949e-40de-a35e-26f239aff5f9",
   "metadata": {},
   "outputs": [],
   "source": [
    "len(dict)\n",
    "str(dict)\n",
    "type(variable)\n",
    "dict.clear()\n",
    "dict.keys()\n",
    "dict.update(dict2)\n",
    "dict.values()\n",
    "**difference between clear and del**(important)\n",
    "\n"
   ]
  },
  {
   "cell_type": "code",
   "execution_count": 13,
   "id": "479bf072-1a30-4f49-9f0d-618f63a2e1d3",
   "metadata": {},
   "outputs": [
    {
     "name": "stdin",
     "output_type": "stream",
     "text": [
      "Enter the name of the user: charlie\n"
     ]
    },
    {
     "name": "stdout",
     "output_type": "stream",
     "text": [
      "User not found\n",
      "{'Charlie': 9865704312, 'Riya': 8975423103, 'Neha': 9076453291, 'Sara': 7895432310, 'Mohan': 7653198231}\n"
     ]
    },
    {
     "name": "stdin",
     "output_type": "stream",
     "text": [
      "Enter the name of the user to delete: Sara\n"
     ]
    },
    {
     "name": "stdout",
     "output_type": "stream",
     "text": [
      "User_name deleted Successfully..\n",
      "{'Charlie': 9865704312, 'Riya': 8975423103, 'Neha': 9076453291, 'Mohan': 7653198231}\n",
      "dict_keys(['Charlie', 'Riya', 'Neha', 'Mohan'])\n",
      "dict_values([9865704312, 8975423103, 9076453291, 7653198231])\n"
     ]
    }
   ],
   "source": [
    "# Complete phonebook program\n",
    "\n",
    "phonebook = {\"Charlie\": 9865704312, \"Riya\":8975423103, \"Neha\":9076453291, \"Sara\":7895432310}\n",
    "user_name = input(\"Enter the name of the user:\")\n",
    "if user_name in phonebook:\n",
    "    new_number = int(input(\"Enter the new phone number:\"))\n",
    "    phonebook[user_name] = new_number\n",
    "    print(\"Phone number is updated Successfully..\")\n",
    "else:\n",
    "    print(\"User not found\")\n",
    "phonebook[\"Mohan\"] =  7653198231\n",
    "print(phonebook)\n",
    "user_name1 = input(\"Enter the name of the user to delete:\")\n",
    "if user_name1 in phonebook:\n",
    "    del phonebook[user_name1]\n",
    "    print(\"User_name deleted Successfully..\")\n",
    "phonebook.clear    # To clear dictionary\n",
    "print(phonebook)\n",
    "print(phonebook.keys())\n",
    "print(phonebook.values())\n"
   ]
  },
  {
   "cell_type": "code",
   "execution_count": null,
   "id": "229c666f-f9a0-4733-964c-16b89436286e",
   "metadata": {},
   "outputs": [],
   "source": []
  }
 ],
 "metadata": {
  "kernelspec": {
   "display_name": "Python 3 (ipykernel)",
   "language": "python",
   "name": "python3"
  },
  "language_info": {
   "codemirror_mode": {
    "name": "ipython",
    "version": 3
   },
   "file_extension": ".py",
   "mimetype": "text/x-python",
   "name": "python",
   "nbconvert_exporter": "python",
   "pygments_lexer": "ipython3",
   "version": "3.13.5"
  }
 },
 "nbformat": 4,
 "nbformat_minor": 5
}
