{
 "cells": [
  {
   "cell_type": "code",
   "execution_count": 2,
   "id": "31922b6c-3190-4db6-ac11-12edfa20635a",
   "metadata": {},
   "outputs": [
    {
     "name": "stdout",
     "output_type": "stream",
     "text": [
      "{'harry': 9887566488, 'seam': 7894561231, 'thomas': 98745632124}\n"
     ]
    },
    {
     "name": "stdin",
     "output_type": "stream",
     "text": [
      "Enter a name: harry\n",
      "Enter the number: 9887566488\n"
     ]
    },
    {
     "name": "stdout",
     "output_type": "stream",
     "text": [
      "Success\n"
     ]
    }
   ],
   "source": [
    "phonebook ={\"harry\":9887566488, \"seam\":7894561231, \"thomas\":98745632124}\n",
    "print(phonebook)\n",
    "name = input(\"Enter a name:\")\n",
    "if name in phonebook:\n",
    "    num=int(input(\"Enter the number:\"))\n",
    "    phonebook[name]=num\n",
    "    print(\"Success\")\n",
    "else:\n",
    "    print(\"Name not found\")\n",
    "                  "
   ]
  },
  {
   "cell_type": "code",
   "execution_count": 1,
   "id": "c77e16c7-0a53-42b4-b2c6-04761a1b67d5",
   "metadata": {},
   "outputs": [
    {
     "name": "stdout",
     "output_type": "stream",
     "text": [
      "{'harry': 9887566488, 'seam': 7894561231, 'thomas': 98745632124}\n",
      "{'harry': 9887566488, 'seam': 7894561231, 'thomas': 98745632124, 'Radhika': 454634355}\n",
      "{'harry': 9887566488, 'seam': 7894561231, 'thomas': 98745632124, 'Radhika': 454634355, 'Amir': 64455}\n"
     ]
    }
   ],
   "source": [
    "phonebook ={\"harry\":9887566488, \"seam\":7894561231, \"thomas\":98745632124}\n",
    "print(phonebook)\n",
    "phonebook[\"Radhika\"]=454634355\n",
    "print(phonebook)\n",
    "phonebook.update({\"Amir\":64455})\n",
    "print(phonebook)"
   ]
  },
  {
   "cell_type": "code",
   "execution_count": 3,
   "id": "fd58e539-89ac-40c3-8c18-fc79029b2e95",
   "metadata": {},
   "outputs": [
    {
     "name": "stdout",
     "output_type": "stream",
     "text": [
      "{'harry': 9887566488, 'seam': 7894561231, 'thomas': 98745632124}\n"
     ]
    },
    {
     "name": "stdin",
     "output_type": "stream",
     "text": [
      "Enter a name: Seam\n"
     ]
    },
    {
     "name": "stdout",
     "output_type": "stream",
     "text": [
      "Seam  was not found\n",
      "{}\n"
     ]
    }
   ],
   "source": [
    "phonebook ={\"harry\":9887566488, \"seam\":7894561231, \"thomas\":98745632124}\n",
    "print(phonebook)\n",
    "name= input(\"Enter a name:\")\n",
    "if name in phonebook:\n",
    "    del phonebook[name]\n",
    "    print(\"Deleted Successfully\")\n",
    "else:\n",
    "    print(name, \" was not found\")\n",
    "\n",
    "#del phonebook\n",
    "phonebook.clear()\n",
    "print(phonebook)"
   ]
  },
  {
   "cell_type": "code",
   "execution_count": null,
   "id": "f4940680-6e82-4abc-b4db-a9dc64e61f57",
   "metadata": {},
   "outputs": [],
   "source": [
    "len(dict)\n",
    "str(dict)\n",
    "type(variable)\n",
    "dict.clear()\n",
    "dict.keys()\n",
    "dict.update(dict2)\n",
    "dict.values()\n",
    "important (**difference between clear and del**)\n"
   ]
  }
 ],
 "metadata": {
  "kernelspec": {
   "display_name": "Python 3 (ipykernel)",
   "language": "python",
   "name": "python3"
  },
  "language_info": {
   "codemirror_mode": {
    "name": "ipython",
    "version": 3
   },
   "file_extension": ".py",
   "mimetype": "text/x-python",
   "name": "python",
   "nbconvert_exporter": "python",
   "pygments_lexer": "ipython3",
   "version": "3.13.3"
  }
 },
 "nbformat": 4,
 "nbformat_minor": 5
}
