{
 "cells": [
  {
   "cell_type": "code",
   "execution_count": 1,
   "id": "da3a3485-302f-487c-a7e6-0ec3a2f33220",
   "metadata": {},
   "outputs": [
    {
     "name": "stdout",
     "output_type": "stream",
     "text": [
      "('Riya', 5, 1995)\n"
     ]
    }
   ],
   "source": [
    "# Creating tuples\n",
    "tup1=('Riya',5,1995)\n",
    "print(tup1)"
   ]
  },
  {
   "cell_type": "code",
   "execution_count": 2,
   "id": "c8190391-5c65-4971-a129-5c4fad771ea3",
   "metadata": {},
   "outputs": [
    {
     "name": "stdout",
     "output_type": "stream",
     "text": [
      "(24,)\n"
     ]
    }
   ],
   "source": [
    "tup=(24,)\n",
    "print(tup)"
   ]
  },
  {
   "cell_type": "code",
   "execution_count": 3,
   "id": "ce6320f2-0730-44aa-b31f-202cd96a5c68",
   "metadata": {},
   "outputs": [
    {
     "name": "stdout",
     "output_type": "stream",
     "text": [
      "3\n"
     ]
    }
   ],
   "source": [
    "tup=(3)\n",
    "print(tup)"
   ]
  },
  {
   "cell_type": "code",
   "execution_count": 4,
   "id": "5e2af397-5bb7-44a6-8fb7-9ef2024a6499",
   "metadata": {},
   "outputs": [
    {
     "name": "stdout",
     "output_type": "stream",
     "text": [
      "<class 'int'>\n"
     ]
    }
   ],
   "source": [
    "tup=(5)\n",
    "print(type(tup))"
   ]
  },
  {
   "cell_type": "code",
   "execution_count": 5,
   "id": "7e78c555-a30d-482d-bf39-233c5f482694",
   "metadata": {},
   "outputs": [
    {
     "name": "stdout",
     "output_type": "stream",
     "text": [
      "<class 'str'>\n"
     ]
    }
   ],
   "source": [
    "tup=('Riya')\n",
    "print(type(tup))"
   ]
  },
  {
   "cell_type": "code",
   "execution_count": 6,
   "id": "b08ac0e1-d098-44aa-bfec-7fa49893ebe9",
   "metadata": {},
   "outputs": [
    {
     "name": "stdout",
     "output_type": "stream",
     "text": [
      "<class 'tuple'>\n"
     ]
    }
   ],
   "source": [
    "tup=(2,)\n",
    "print(type(tup))"
   ]
  },
  {
   "cell_type": "code",
   "execution_count": 7,
   "id": "327c185e-d2de-4092-9fba-c56bf7db8a2f",
   "metadata": {},
   "outputs": [
    {
     "name": "stdout",
     "output_type": "stream",
     "text": [
      "()\n"
     ]
    }
   ],
   "source": [
    "tup=()\n",
    "print(tup)"
   ]
  },
  {
   "cell_type": "code",
   "execution_count": 8,
   "id": "85c306ec-05b6-4468-a8bd-09a17fed45f7",
   "metadata": {},
   "outputs": [
    {
     "ename": "SyntaxError",
     "evalue": "invalid syntax (2559014687.py, line 1)",
     "output_type": "error",
     "traceback": [
      "  \u001b[36mCell\u001b[39m\u001b[36m \u001b[39m\u001b[32mIn[8]\u001b[39m\u001b[32m, line 1\u001b[39m\n\u001b[31m    \u001b[39m\u001b[31mtup=(,)\u001b[39m\n         ^\n\u001b[31mSyntaxError\u001b[39m\u001b[31m:\u001b[39m invalid syntax\n"
     ]
    }
   ],
   "source": [
    "tup=(,)\n",
    "print(tup)"
   ]
  },
  {
   "cell_type": "code",
   "execution_count": 9,
   "id": "c857a3bc-1162-4728-a391-cbebabc92a26",
   "metadata": {},
   "outputs": [
    {
     "name": "stdout",
     "output_type": "stream",
     "text": [
      "(1, 2, 3)\n"
     ]
    }
   ],
   "source": [
    "tup=tuple([1,2,3])\n",
    "print(tup)"
   ]
  },
  {
   "cell_type": "code",
   "execution_count": 10,
   "id": "f9f20d0d-643b-4dbb-b31d-54f7b5e98e6d",
   "metadata": {},
   "outputs": [
    {
     "name": "stdout",
     "output_type": "stream",
     "text": [
      "(1, 2, 3, 4, 5, 7)\n"
     ]
    }
   ],
   "source": [
    "s=(1,2,3,4,5)\n",
    "s=s+(7,)\n",
    "print(s)"
   ]
  },
  {
   "cell_type": "code",
   "execution_count": 11,
   "id": "3872a4ff-0635-45e2-a515-ad94416129db",
   "metadata": {},
   "outputs": [
    {
     "name": "stdout",
     "output_type": "stream",
     "text": [
      "(1, 2, 3, 4, 5, 7)\n"
     ]
    }
   ],
   "source": [
    "t=(1,2,3,4,5)\n",
    "t=t+(7,)\n",
    "t+(10,)# will not add anything\n",
    "print(t)"
   ]
  },
  {
   "cell_type": "code",
   "execution_count": 12,
   "id": "d7436885-8d0b-4665-9728-2beca47adb35",
   "metadata": {},
   "outputs": [
    {
     "ename": "SyntaxError",
     "evalue": "cannot assign to function call here. Maybe you meant '==' instead of '='? (2428120400.py, line 2)",
     "output_type": "error",
     "traceback": [
      "  \u001b[36mCell\u001b[39m\u001b[36m \u001b[39m\u001b[32mIn[12]\u001b[39m\u001b[32m, line 2\u001b[39m\n\u001b[31m    \u001b[39m\u001b[31mtup(0)=100\u001b[39m\n    ^\n\u001b[31mSyntaxError\u001b[39m\u001b[31m:\u001b[39m cannot assign to function call here. Maybe you meant '==' instead of '='?\n"
     ]
    }
   ],
   "source": [
    "tup=(1,2,3)\n",
    "tup(0)=100\n",
    "print(tup)"
   ]
  },
  {
   "cell_type": "code",
   "execution_count": 13,
   "id": "cdfd2041-eb05-4042-babe-3bd2689c8f20",
   "metadata": {},
   "outputs": [
    {
     "name": "stdout",
     "output_type": "stream",
     "text": [
      "(1, 2, 3, 1, 2, 3, 1, 2, 3)\n"
     ]
    }
   ],
   "source": [
    "tup=(1,2,3)*3\n",
    "print(tup)"
   ]
  },
  {
   "cell_type": "code",
   "execution_count": 14,
   "id": "1dfb643e-91d2-4e8f-a3be-396602166831",
   "metadata": {},
   "outputs": [
    {
     "name": "stdin",
     "output_type": "stream",
     "text": [
      "Enter number of employees:  3\n",
      "Enter salary of employee 1:  50000\n",
      "Enter salary of employee 2:  30000\n",
      "Enter salary of employee 3:  60000\n"
     ]
    },
    {
     "name": "stdout",
     "output_type": "stream",
     "text": [
      "Minimum Salary: 30000.0\n",
      "Maximum Salary: 60000.0\n"
     ]
    }
   ],
   "source": [
    "# Write a python program to input 'n' employee salaries and find the minimum and maximum salary amongst 'n' employees\n",
    "\n",
    "n = int(input(\"Enter number of employees: \"))\n",
    "\n",
    "salaries = []\n",
    "\n",
    "for i in range(n):\n",
    "    salary = float(input(f\"Enter salary of employee {i+1}: \"))\n",
    "    salaries.append(salary)\n",
    "\n",
    "min_salary = min(salaries)\n",
    "max_salary = max(salaries)\n",
    "\n",
    "print(\"Minimum Salary:\", min_salary)\n",
    "print(\"Maximum Salary:\", max_salary)"
   ]
  },
  {
   "cell_type": "code",
   "execution_count": 16,
   "id": "7a63977d-e180-4238-9ace-3990f5b2b0b9",
   "metadata": {},
   "outputs": [
    {
     "name": "stdout",
     "output_type": "stream",
     "text": [
      "('PYTHON',)\n",
      "1\n",
      "4\n",
      "(10, 20, 30, 10, 20, 30)\n"
     ]
    }
   ],
   "source": [
    "t=tuple()\n",
    "t=t+('PYTHON',)\n",
    "print(t)\n",
    "print(len(t))\n",
    "t1=(10,20,30)\n",
    "t2=t1+t\n",
    "print(len(t2))\n",
    "t3=t1*2\n",
    "print(t3)"
   ]
  },
  {
   "cell_type": "code",
   "execution_count": 23,
   "id": "f2f3f6a4-d92e-4cf6-b89e-f947a35b219e",
   "metadata": {},
   "outputs": [
    {
     "name": "stdin",
     "output_type": "stream",
     "text": [
      "Enter number of employees:  2\n",
      "Enter name of employee 1:  Riya\n",
      "Enter employee number of Riya:  50000\n",
      "Enter name of employee 2:  Diya\n",
      "Enter employee number of Diya:  60000\n"
     ]
    },
    {
     "name": "stdout",
     "output_type": "stream",
     "text": [
      "\n",
      "Employee Name and Number:\n",
      "Riya: 50000\n",
      "Diya: 60000\n",
      "dict_keys(['Riya', 'Diya'])\n",
      "dict_values(['50000', '60000'])\n"
     ]
    }
   ],
   "source": [
    "# Write a program to input ‘n’ employee numbers and names and store them in a dictionary. Display dictionaries employee’s names(key) and numbers(values) together.\n",
    "employees = {}\n",
    "\n",
    "n = int(input(\"Enter number of employees: \"))\n",
    "        \n",
    "for i in range(n):\n",
    "    name = input(f\"Enter name of employee {i + 1}: \")\n",
    "    number = input(f\"Enter employee number of {name}: \")\n",
    "    employees[name] = number\n",
    "\n",
    "print(\"\\nEmployee Name and Number:\")\n",
    "for name, number in employees.items():\n",
    "    print(f\"{name}: {number}\")\n",
    "\n",
    "print(employees.keys())\n",
    "print(employees.values())\n"
   ]
  }
 ],
 "metadata": {
  "kernelspec": {
   "display_name": "Python 3 (ipykernel)",
   "language": "python",
   "name": "python3"
  },
  "language_info": {
   "codemirror_mode": {
    "name": "ipython",
    "version": 3
   },
   "file_extension": ".py",
   "mimetype": "text/x-python",
   "name": "python",
   "nbconvert_exporter": "python",
   "pygments_lexer": "ipython3",
   "version": "3.13.5"
  }
 },
 "nbformat": 4,
 "nbformat_minor": 5
}
