{
 "cells": [
  {
   "cell_type": "code",
   "execution_count": null,
   "id": "852f09f9-926d-4e13-a5df-283969f22142",
   "metadata": {},
   "outputs": [],
   "source": [
    "total_sum = 0\n",
    "while total_sum <= 300:\n",
    "    try:\n",
    "        num = float(input(\"Enter a number: \"))\n",
    "        total_sum += num\n",
    "        print(f\"Current sum: {total_sum}\")\n",
    "    except ValueError:\n",
    "        print(\"Invalid input. Please enter a number.\")\n",
    "print(f\"Final sum: {total_sum}. Sum exceeded 300.\")\n"
   ]
  },
  {
   "cell_type": "code",
   "execution_count": 6,
   "id": "b4d101d5-25c6-47a7-94df-1154bd4e3eee",
   "metadata": {},
   "outputs": [
    {
     "ename": "SyntaxError",
     "evalue": "invalid non-printable character U+00A0 (1299874200.py, line 5)",
     "output_type": "error",
     "traceback": [
      "  \u001b[36mCell\u001b[39m\u001b[36m \u001b[39m\u001b[32mIn[6]\u001b[39m\u001b[32m, line 5\u001b[39m\n\u001b[31m    \u001b[39m\u001b[31mbreak\u001b[39m\n         ^\n\u001b[31mSyntaxError\u001b[39m\u001b[31m:\u001b[39m invalid non-printable character U+00A0\n"
     ]
    }
   ],
   "source": [
    "while True:  # Create an infinite loop\n",
    "    user_input = input(\"Enter a string: \")  # Get string input from the user\n",
    "    if user_input.lower() == 'bon':  # Check if the input is \"bon\" (case-insensitive)\n",
    "        print(\"voyage\")  # Display \"voyage\"\n",
    "        break "
   ]
  },
  {
   "cell_type": "code",
   "execution_count": null,
   "id": "01d8cbbe-cfd3-47a8-9fd8-80d8cc57e389",
   "metadata": {},
   "outputs": [],
   "source": []
  }
 ],
 "metadata": {
  "kernelspec": {
   "display_name": "Python 3 (ipykernel)",
   "language": "python",
   "name": "python3"
  },
  "language_info": {
   "codemirror_mode": {
    "name": "ipython",
    "version": 3
   },
   "file_extension": ".py",
   "mimetype": "text/x-python",
   "name": "python",
   "nbconvert_exporter": "python",
   "pygments_lexer": "ipython3",
   "version": "3.13.3"
  }
 },
 "nbformat": 4,
 "nbformat_minor": 5
}
