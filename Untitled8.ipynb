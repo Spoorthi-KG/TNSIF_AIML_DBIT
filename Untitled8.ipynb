{
 "cells": [
  {
   "cell_type": "code",
   "execution_count": 1,
   "id": "4beca54e-a82c-4cc9-83f7-c20b2f5a33f4",
   "metadata": {},
   "outputs": [
    {
     "name": "stdin",
     "output_type": "stream",
     "text": [
      "Enter your door number and street:  24th\n"
     ]
    },
    {
     "name": "stdout",
     "output_type": "stream",
     "text": [
      "Numbers in the input: 24\n"
     ]
    }
   ],
   "source": [
    "user_input = input(\"Enter your door number and street: \")\n",
    "\n",
    "numbers_only = \"\"\n",
    "\n",
    "for char in user_input:\n",
    "    if char.isdigit():\n",
    "        numbers_only += char\n",
    "\n",
    "print(\"Numbers in the input:\", numbers_only)\n"
   ]
  },
  {
   "cell_type": "code",
   "execution_count": 3,
   "id": "0346a383-7b9a-4ba6-81a4-fd8e9f321b58",
   "metadata": {},
   "outputs": [
    {
     "name": "stdout",
     "output_type": "stream",
     "text": [
      "Enter 5 elements:\n"
     ]
    },
    {
     "name": "stdin",
     "output_type": "stream",
     "text": [
      " apple, mango, orange, banana, red\n",
      " mango\n",
      " papaya\n",
      " pine\n",
      " ss\n",
      "Enter your name:  sp\n"
     ]
    },
    {
     "name": "stdout",
     "output_type": "stream",
     "text": [
      "Updated list: ['apple, mango, orange, banana, red', 'mango', 'sp', 'pine', 'sp']\n"
     ]
    }
   ],
   "source": [
    "list1 = []\n",
    "print(\"Enter 5 elements:\")\n",
    "for i in range(5):\n",
    "    list1.append(input())\n",
    "\n",
    "name = input(\"Enter your name: \")\n",
    "\n",
    "\n",
    "list1[2] = name\n",
    "list1[4] = name\n",
    "\n",
    "\n",
    "print(\"Updated list:\", list1)\n"
   ]
  },
  {
   "cell_type": "code",
   "execution_count": 4,
   "id": "fac5bcb1-1fd4-479e-b502-9222a79c8851",
   "metadata": {},
   "outputs": [
    {
     "name": "stdin",
     "output_type": "stream",
     "text": [
      "Enter list items:  apple\n",
      "Enter index:  mango\n"
     ]
    },
    {
     "ename": "ValueError",
     "evalue": "invalid literal for int() with base 10: 'mango'",
     "output_type": "error",
     "traceback": [
      "\u001b[31m---------------------------------------------------------------------------\u001b[39m",
      "\u001b[31mValueError\u001b[39m                                Traceback (most recent call last)",
      "\u001b[36mCell\u001b[39m\u001b[36m \u001b[39m\u001b[32mIn[4]\u001b[39m\u001b[32m, line 4\u001b[39m\n\u001b[32m      1\u001b[39m my_list = \u001b[38;5;28minput\u001b[39m(\u001b[33m\"\u001b[39m\u001b[33mEnter list items: \u001b[39m\u001b[33m\"\u001b[39m).split()\n\u001b[32m----> \u001b[39m\u001b[32m4\u001b[39m index = \u001b[38;5;28;43mint\u001b[39;49m\u001b[43m(\u001b[49m\u001b[38;5;28;43minput\u001b[39;49m\u001b[43m(\u001b[49m\u001b[33;43m\"\u001b[39;49m\u001b[33;43mEnter index: \u001b[39;49m\u001b[33;43m\"\u001b[39;49m\u001b[43m)\u001b[49m\u001b[43m)\u001b[49m\n\u001b[32m      5\u001b[39m element = \u001b[38;5;28minput\u001b[39m(\u001b[33m\"\u001b[39m\u001b[33mEnter element: \u001b[39m\u001b[33m\"\u001b[39m)\n\u001b[32m      7\u001b[39m \u001b[38;5;66;03m# Insert or append\u001b[39;00m\n",
      "\u001b[31mValueError\u001b[39m: invalid literal for int() with base 10: 'mango'"
     ]
    }
   ],
   "source": [
    "my_list = input(\"Enter list items: \").split()\n",
    "\n",
    "\n",
    "index = int(input(\"Enter index: \"))\n",
    "element = input(\"Enter element: \")\n",
    "\n",
    "\n",
    "if 0 <= index <= len(my_list):\n",
    "    my_list.insert(index, element)\n",
    "    print(\"Inserted at index\", index)\n",
    "else:\n",
    "    my_list.append(element)\n",
    "    print(\"Invalid index. Element appended.\")\n",
    "\n",
    "print(\"Updated list:\", my_list)\n"
   ]
  },
  {
   "cell_type": "code",
   "execution_count": 5,
   "id": "45095539-698d-440a-beeb-7168b96517ac",
   "metadata": {},
   "outputs": [
    {
     "name": "stdin",
     "output_type": "stream",
     "text": [
      "Enter list items:  aa\n",
      "Enter index:  ab\n"
     ]
    },
    {
     "name": "stdout",
     "output_type": "stream",
     "text": [
      "Please enter a valid integer for index.\n"
     ]
    },
    {
     "name": "stdin",
     "output_type": "stream",
     "text": [
      "Enter index:  3\n",
      "Enter element:  apple\n"
     ]
    }
   ],
   "source": [
    "my_list = input(\"Enter list items: \").split()\n",
    "\n",
    "while True:\n",
    "    try:\n",
    "        index = int(input(\"Enter index: \"))\n",
    "        break\n",
    "    except ValueError:\n",
    "        print(\"Please enter a valid integer for index.\")\n",
    "\n",
    "element = input(\"Enter element: \")"
   ]
  },
  {
   "cell_type": "code",
   "execution_count": 1,
   "id": "4c2407ac-ffd0-4b6d-8640-e40ca39a02bc",
   "metadata": {},
   "outputs": [
    {
     "ename": "SyntaxError",
     "evalue": "invalid non-printable character U+00A0 (3303904027.py, line 7)",
     "output_type": "error",
     "traceback": [
      "  \u001b[36mCell\u001b[39m\u001b[36m \u001b[39m\u001b[32mIn[1]\u001b[39m\u001b[32m, line 7\u001b[39m\n\u001b[31m    \u001b[39m\u001b[31mprint(\"Final list:\", nums)\u001b[39m\n                        ^\n\u001b[31mSyntaxError\u001b[39m\u001b[31m:\u001b[39m invalid non-printable character U+00A0\n"
     ]
    }
   ],
   "source": [
    "nums = [int(input(\"Enter number: \")) for _ in range(10)]\n",
    "\n",
    "del nums[2]\n",
    "\n",
    "nums = [n for n in nums if n % 2 == 0]\n",
    "\n",
    "print(\"Final list:\", nums)"
   ]
  },
  {
   "cell_type": "code",
   "execution_count": 2,
   "id": "8eb765f1-6930-4dd7-b5ab-3ded61693cfd",
   "metadata": {},
   "outputs": [
    {
     "name": "stdin",
     "output_type": "stream",
     "text": [
      "Enter number:  1\n",
      "Enter number:  2\n",
      "Enter number:  3\n",
      "Enter number:  4\n",
      "Enter number:  5\n",
      "Enter number:  6\n",
      "Enter number:  7\n",
      "Enter number:  8\n",
      "Enter number:  9\n",
      "Enter number:  0\n"
     ]
    },
    {
     "name": "stdout",
     "output_type": "stream",
     "text": [
      "Final list: [2, 4, 6, 8, 0]\n"
     ]
    }
   ],
   "source": [
    "num = [int(input(\"Enter number: \")) \n",
    "        for _ in range(10)]\n",
    "\n",
    "del num[2]\n",
    "\n",
    "num = [n for n in num if n % 2 == 0]\n",
    "\n",
    "print(\"Final list:\", num)"
   ]
  },
  {
   "cell_type": "code",
   "execution_count": 5,
   "id": "7ab71e8e-9f6d-4ba4-b021-4f545d0a91a6",
   "metadata": {},
   "outputs": [
    {
     "name": "stdout",
     "output_type": "stream",
     "text": [
      "['p', 'd', 'a', 'f', 'a', 'n']\n",
      "['n', 'f', 'a', 'd', 'p']\n"
     ]
    }
   ],
   "source": [
    "k = ['a', 'p', 'd', 'a', 'f', 'a', 'n']\n",
    "k.remove('a')\n",
    "print(k)\n",
    "k.reverse()\n",
    "k.remove('a')\n",
    "print(k)"
   ]
  },
  {
   "cell_type": "code",
   "execution_count": null,
   "id": "4076750e-19de-42cd-9340-b1dee1559071",
   "metadata": {},
   "outputs": [],
   "source": []
  }
 ],
 "metadata": {
  "kernelspec": {
   "display_name": "Python 3 (ipykernel)",
   "language": "python",
   "name": "python3"
  },
  "language_info": {
   "codemirror_mode": {
    "name": "ipython",
    "version": 3
   },
   "file_extension": ".py",
   "mimetype": "text/x-python",
   "name": "python",
   "nbconvert_exporter": "python",
   "pygments_lexer": "ipython3",
   "version": "3.13.3"
  }
 },
 "nbformat": 4,
 "nbformat_minor": 5
}
