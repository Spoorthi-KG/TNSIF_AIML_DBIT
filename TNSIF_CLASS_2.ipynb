{
 "cells": [
  {
   "cell_type": "code",
   "execution_count": 1,
   "id": "97c16756-22f8-48a7-87e1-7c7c90acd5dc",
   "metadata": {},
   "outputs": [
    {
     "name": "stdin",
     "output_type": "stream",
     "text": [
      "Enter a number:  200\n"
     ]
    },
    {
     "name": "stdout",
     "output_type": "stream",
     "text": [
      "Current sum: 200.0\n"
     ]
    },
    {
     "name": "stdin",
     "output_type": "stream",
     "text": [
      "Enter a number:  100\n"
     ]
    },
    {
     "name": "stdout",
     "output_type": "stream",
     "text": [
      "Current sum: 300.0\n"
     ]
    },
    {
     "name": "stdin",
     "output_type": "stream",
     "text": [
      "Enter a number:  100\n"
     ]
    },
    {
     "name": "stdout",
     "output_type": "stream",
     "text": [
      "Current sum: 400.0\n",
      "Final sum: 400.0. Sum exceeded 300.\n"
     ]
    }
   ],
   "source": [
    "# Program to accepts numbers from the user until their total sum exceeds 300.\n",
    "\n",
    "total_sum = 0\n",
    "while total_sum <= 300:\n",
    "    try:\n",
    "        num = float(input(\"Enter a number: \"))\n",
    "        total_sum += num\n",
    "        print(f\"Current sum: {total_sum}\")\n",
    "    except ValueError:\n",
    "        print(\"Invalid input. Please enter a number.\")\n",
    "print(f\"Final sum: {total_sum}. Sum exceeded 300.\")"
   ]
  },
  {
   "cell_type": "code",
   "execution_count": 2,
   "id": "e6a2cb73-8abc-43c0-be49-840f00b5ac23",
   "metadata": {},
   "outputs": [
    {
     "name": "stdin",
     "output_type": "stream",
     "text": [
      "Enter a name:  SPOORTHI\n"
     ]
    },
    {
     "name": "stdout",
     "output_type": "stream",
     "text": [
      "Consonants in your name: SPRTH\n"
     ]
    }
   ],
   "source": [
    "# Program to accepts a name from the user and displays only the consonants in the name.\n",
    "\n",
    "name = input(\"Enter a name: \")\n",
    "vowels = 'aeiouAEIOU'\n",
    "consonants = ''\n",
    "\n",
    "\n",
    "for char in name:\n",
    "  if char.isalpha() and char not in vowels:\n",
    "    consonants += char\n",
    "\n",
    "print(\"Consonants in your name:\", consonants)"
   ]
  },
  {
   "cell_type": "code",
   "execution_count": 3,
   "id": "4a68b888-ec8c-4943-ab51-d63ac556e750",
   "metadata": {},
   "outputs": [
    {
     "name": "stdin",
     "output_type": "stream",
     "text": [
      "Enter name:  spoorthi\n"
     ]
    },
    {
     "name": "stdout",
     "output_type": "stream",
     "text": [
      "s\n",
      "p\n",
      "r\n",
      "t\n",
      "h\n"
     ]
    }
   ],
   "source": [
    "# Program to accepts a name from the user and prints each character of the name except vowels\n",
    "\n",
    "n = input(\"Enter name: \")\n",
    "for i in n:\n",
    "    if i == 'a' or i == 'e' or i == 'i' or i == 'o' or i == 'u':\n",
    "        continue\n",
    "    else:\n",
    "        print(i)"
   ]
  },
  {
   "cell_type": "code",
   "execution_count": 6,
   "id": "5c55c880-42a3-40b0-b985-dd8a9e1af7f9",
   "metadata": {},
   "outputs": [
    {
     "name": "stdin",
     "output_type": "stream",
     "text": [
      "Enter a string:  str\n",
      "Enter a string:  bon\n"
     ]
    },
    {
     "name": "stdout",
     "output_type": "stream",
     "text": [
      "voyage\n"
     ]
    }
   ],
   "source": [
    "# Program to accepts strings from the user until the input is \"bon\". When \"bon\" is entered, it prints \"voyage\" and stops the program.\n",
    "\n",
    "while True:\n",
    "    user_input = input(\"Enter a string: \")\n",
    "    if user_input == \"bon\":\n",
    "        print(\"voyage\")\n",
    "        break"
   ]
  },
  {
   "cell_type": "code",
   "execution_count": 5,
   "id": "81ec5e00-49c0-4faf-9b55-6f0c06b13df8",
   "metadata": {},
   "outputs": [
    {
     "name": "stdin",
     "output_type": "stream",
     "text": [
      "Enter your door number and street:  12/B 24th cross\n"
     ]
    },
    {
     "name": "stdout",
     "output_type": "stream",
     "text": [
      "Numbers in the address: 1224\n"
     ]
    }
   ],
   "source": [
    "# Program that accepts the door number and street of the user and displays only the numbers present in the string\n",
    "\n",
    "address = input(\"Enter your door number and street: \")\n",
    "\n",
    "numbers_only = \"\"\n",
    "\n",
    "for char in address:\n",
    "    if char.isdigit():  # Check if the character is a digit\n",
    "        numbers_only += char\n",
    "        \n",
    "print(\"Numbers in the address:\", numbers_only)"
   ]
  },
  {
   "cell_type": "code",
   "execution_count": 9,
   "id": "b260924b-7ece-4c20-bba3-4e39d7298772",
   "metadata": {},
   "outputs": [
    {
     "name": "stdin",
     "output_type": "stream",
     "text": [
      "Enter your address 123/B 5th cross\n"
     ]
    },
    {
     "name": "stdout",
     "output_type": "stream",
     "text": [
      "1\n",
      "2\n",
      "3\n",
      "5\n"
     ]
    }
   ],
   "source": [
    "address = input(\"Enter your address\")\n",
    "\n",
    "for char in address:\n",
    "    if char >='0' and char <='9':\n",
    "        print(char)\n",
    "    else:\n",
    "        continue"
   ]
  },
  {
   "cell_type": "code",
   "execution_count": 8,
   "id": "748e2585-46d4-4ce9-9794-e97ca49551e0",
   "metadata": {},
   "outputs": [
    {
     "name": "stdout",
     "output_type": "stream",
     "text": [
      "Enter 5 elements:\n"
     ]
    },
    {
     "name": "stdin",
     "output_type": "stream",
     "text": [
      " 5\n",
      " 6\n",
      " 7\n",
      " 8\n",
      " 24\n",
      "Enter your name:  SPOORTHI\n"
     ]
    },
    {
     "name": "stdout",
     "output_type": "stream",
     "text": [
      "['5', '6', 'SPOORTHI', '8', 'SPOORTHI']\n"
     ]
    }
   ],
   "source": [
    "# Program to accept a list from the user with 5 elements and replace the third and fifth elements of the list with the user’s name.\n",
    "\n",
    "elements = []\n",
    "print(\"Enter 5 elements:\")\n",
    "for i in range(5):\n",
    "    elements.append(input())\n",
    "\n",
    "name = input(\"Enter your name: \")\n",
    "\n",
    "elements[2] = name\n",
    "elements[4] = name\n",
    "\n",
    "print(elements)"
   ]
  },
  {
   "cell_type": "code",
   "execution_count": null,
   "id": "d9b2382d-4f91-444a-b21a-51fdb6b2c090",
   "metadata": {},
   "outputs": [],
   "source": [
    "else:\n",
    "    elements.append(element1)\n",
    "    print(f\" Index out of range. Appended '{element1}' at the end.\")"
   ]
  },
  {
   "cell_type": "code",
   "execution_count": 21,
   "id": "8c2f16c3-1f07-4b57-b4ec-d1ea6c602861",
   "metadata": {},
   "outputs": [
    {
     "name": "stdin",
     "output_type": "stream",
     "text": [
      "Enter a element: 1\n",
      "Enter a element: 24\n",
      "Enter a element: 5\n",
      "Enter a element: 6\n",
      "Enter a element: 8\n",
      "Enter the index to insert the new element:  9\n",
      "Enter the new element:  3\n"
     ]
    },
    {
     "name": "stdout",
     "output_type": "stream",
     "text": [
      "Invalid index. Element appended at the end.\n",
      "Final list: ['1', '24', '5', '6', '8', '3']\n"
     ]
    }
   ],
   "source": [
    "# Program that accepts a list from the user and two other inputs: The index where a new element has to be inserted and the element itself. The program should check if the index value given by the user is valid. If it is not, then a message should state that the new element will be appended\n",
    "\n",
    "elements=[]\n",
    "for i in range(5):\n",
    "    items = input(\"Enter a element:\")\n",
    "    elements.append(items)\n",
    "\n",
    "index = int(input(\"Enter the index to insert the new element: \"))\n",
    "new_element = input(\"Enter the new element: \")\n",
    "\n",
    "\n",
    "if 0 <= index <= len(elements):\n",
    "    elements.insert(index, new_element)\n",
    "    print(f\"Element inserted at index\", index)\n",
    "else:\n",
    "    elements.append(new_element)\n",
    "    print(\"Invalid index. Element appended at the end.\")\n",
    "\n",
    "\n",
    "print(\"Final list:\", elements)\n"
   ]
  },
  {
   "cell_type": "code",
   "execution_count": null,
   "id": "6632d031-1a41-4e3c-bf32-ad8ee196cea1",
   "metadata": {},
   "outputs": [],
   "source": []
  }
 ],
 "metadata": {
  "kernelspec": {
   "display_name": "Python 3 (ipykernel)",
   "language": "python",
   "name": "python3"
  },
  "language_info": {
   "codemirror_mode": {
    "name": "ipython",
    "version": 3
   },
   "file_extension": ".py",
   "mimetype": "text/x-python",
   "name": "python",
   "nbconvert_exporter": "python",
   "pygments_lexer": "ipython3",
   "version": "3.13.5"
  }
 },
 "nbformat": 4,
 "nbformat_minor": 5
}
