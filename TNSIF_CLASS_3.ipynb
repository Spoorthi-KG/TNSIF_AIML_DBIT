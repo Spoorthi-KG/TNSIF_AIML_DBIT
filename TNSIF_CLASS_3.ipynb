{
 "cells": [
  {
   "cell_type": "code",
   "execution_count": 1,
   "id": "2c00e619-b4ad-4349-83c2-6654752c28fa",
   "metadata": {},
   "outputs": [
    {
     "name": "stdin",
     "output_type": "stream",
     "text": [
      "Enter number:  0\n",
      "Enter number:  1\n",
      "Enter number:  2\n",
      "Enter number:  3\n",
      "Enter number:  4\n",
      "Enter number:  5\n",
      "Enter number:  6\n",
      "Enter number:  7\n",
      "Enter number:  8\n",
      "Enter number:  9\n"
     ]
    },
    {
     "name": "stdout",
     "output_type": "stream",
     "text": [
      "Final list: [0, 4, 6, 8]\n"
     ]
    }
   ],
   "source": [
    "# program to accept a list with numbers having 10 elements and Removing the third element and all odd elements\n",
    "\n",
    "nums = [int(input(\"Enter number: \")) for _ in range(10)]\n",
    "nums.pop(2) \n",
    "i = len(nums) - 1\n",
    "while i >= 0:\n",
    "    if nums[i] % 2 != 0:\n",
    "        nums.pop(i)\n",
    "    i -= 1\n",
    "print(\"Final list:\", nums)\n"
   ]
  },
  {
   "cell_type": "code",
   "execution_count": 2,
   "id": "5ae44527-448c-46d4-a5a1-a3710a7cc01f",
   "metadata": {},
   "outputs": [
    {
     "name": "stdin",
     "output_type": "stream",
     "text": [
      "Enter a list 1,2,3,4,5\n",
      "Enter a list 1,2,3\n"
     ]
    },
    {
     "name": "stdout",
     "output_type": "stream",
     "text": [
      "yes\n",
      "yes\n",
      "yes\n"
     ]
    }
   ],
   "source": [
    "L1 = eval(input('Enter a list'))\n",
    "L2 = eval(input('Enter a list'))\n",
    "len1 = len(L1)\n",
    "len2 = len(L2)\n",
    "for i in range(len1):\n",
    "    for j in range(len2):\n",
    "        if L1[i] == L2[j]:\n",
    "            print(\"yes\")\n",
    "            break\n",
    "#L1 = [1,2,3,4,5], L2 = [1,2,3] and L1 = [1,2,3], L2 = [4,5,6]\n",
    "                "
   ]
  },
  {
   "cell_type": "code",
   "execution_count": 3,
   "id": "45e0e0e2-4144-471d-8996-b1ffa0a891fc",
   "metadata": {},
   "outputs": [
    {
     "name": "stdout",
     "output_type": "stream",
     "text": [
      "['p', 'd', 'a', 'f', 'a', 'n']\n",
      "['n', 'a', 'f', 'a', 'd', 'p']\n",
      "['n', 'f', 'a', 'd', 'p']\n"
     ]
    }
   ],
   "source": [
    "k = ['a', 'p', 'd', 'a', 'f', 'a', 'n']\n",
    "k.remove('a')\n",
    "print(k)\n",
    "k.reverse()\n",
    "print(k)\n",
    "k.remove('a')\n",
    "print(k)"
   ]
  }
 ],
 "metadata": {
  "kernelspec": {
   "display_name": "Python 3 (ipykernel)",
   "language": "python",
   "name": "python3"
  },
  "language_info": {
   "codemirror_mode": {
    "name": "ipython",
    "version": 3
   },
   "file_extension": ".py",
   "mimetype": "text/x-python",
   "name": "python",
   "nbconvert_exporter": "python",
   "pygments_lexer": "ipython3",
   "version": "3.13.5"
  }
 },
 "nbformat": 4,
 "nbformat_minor": 5
}
