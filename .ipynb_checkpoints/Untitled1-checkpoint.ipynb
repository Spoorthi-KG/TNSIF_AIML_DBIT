{
 "cells": [
  {
   "cell_type": "code",
   "execution_count": 1,
   "id": "978177f0-ae94-49b3-9e71-a4a731f5c729",
   "metadata": {
    "scrolled": true
   },
   "outputs": [
    {
     "ename": "OpenAIError",
     "evalue": "The api_key client option must be set either by passing api_key to the client or by setting the OPENAI_API_KEY environment variable",
     "output_type": "error",
     "traceback": [
      "\u001b[31m---------------------------------------------------------------------------\u001b[39m",
      "\u001b[31mOpenAIError\u001b[39m                               Traceback (most recent call last)",
      "\u001b[36mCell\u001b[39m\u001b[36m \u001b[39m\u001b[32mIn[1]\u001b[39m\u001b[32m, line 78\u001b[39m\n\u001b[32m     73\u001b[39m             \u001b[38;5;28mprint\u001b[39m(\u001b[33mf\u001b[39m\u001b[33m\"\u001b[39m\u001b[33mError: \u001b[39m\u001b[38;5;132;01m{\u001b[39;00me\u001b[38;5;132;01m}\u001b[39;00m\u001b[33m\"\u001b[39m)\n\u001b[32m     74\u001b[39m             response = openai.ChatCompletion.create(\n\u001b[32m     75\u001b[39m     model=\u001b[33m\"\u001b[39m\u001b[33mgpt-3.5-turbo\u001b[39m\u001b[33m\"\u001b[39m,\n\u001b[32m     76\u001b[39m     messages=conversation_history\n\u001b[32m     77\u001b[39m )\n\u001b[32m---> \u001b[39m\u001b[32m78\u001b[39m client = \u001b[43mopenai\u001b[49m\u001b[43m.\u001b[49m\u001b[43mOpenAI\u001b[49m\u001b[43m(\u001b[49m\u001b[43m)\u001b[49m\n\u001b[32m     79\u001b[39m response = client.chat.completions.create(\n\u001b[32m     80\u001b[39m     model=\u001b[33m\"\u001b[39m\u001b[33mgpt-3.5-turbo\u001b[39m\u001b[33m\"\u001b[39m,\n\u001b[32m     81\u001b[39m     messages=conversation_history\n\u001b[32m     82\u001b[39m )\n\u001b[32m     84\u001b[39m \u001b[38;5;66;03m# Run the chatbot\u001b[39;00m\n",
      "\u001b[36mFile \u001b[39m\u001b[32m~\\Lib\\site-packages\\openai\\_client.py:116\u001b[39m, in \u001b[36mOpenAI.__init__\u001b[39m\u001b[34m(self, api_key, organization, project, base_url, websocket_base_url, timeout, max_retries, default_headers, default_query, http_client, _strict_response_validation)\u001b[39m\n\u001b[32m    114\u001b[39m     api_key = os.environ.get(\u001b[33m\"\u001b[39m\u001b[33mOPENAI_API_KEY\u001b[39m\u001b[33m\"\u001b[39m)\n\u001b[32m    115\u001b[39m \u001b[38;5;28;01mif\u001b[39;00m api_key \u001b[38;5;129;01mis\u001b[39;00m \u001b[38;5;28;01mNone\u001b[39;00m:\n\u001b[32m--> \u001b[39m\u001b[32m116\u001b[39m     \u001b[38;5;28;01mraise\u001b[39;00m OpenAIError(\n\u001b[32m    117\u001b[39m         \u001b[33m\"\u001b[39m\u001b[33mThe api_key client option must be set either by passing api_key to the client or by setting the OPENAI_API_KEY environment variable\u001b[39m\u001b[33m\"\u001b[39m\n\u001b[32m    118\u001b[39m     )\n\u001b[32m    119\u001b[39m \u001b[38;5;28mself\u001b[39m.api_key = api_key\n\u001b[32m    121\u001b[39m \u001b[38;5;28;01mif\u001b[39;00m organization \u001b[38;5;129;01mis\u001b[39;00m \u001b[38;5;28;01mNone\u001b[39;00m:\n",
      "\u001b[31mOpenAIError\u001b[39m: The api_key client option must be set either by passing api_key to the client or by setting the OPENAI_API_KEY environment variable"
     ]
    }
   ],
   "source": [
    "import openai\n",
    "import os\n",
    "import speech_recognition as sr\n",
    "import pyttsx3\n",
    "\n",
    "# Set up OpenAI API securely from environment variable\n",
    "openai.api_key = os.getenv('OPENAI_API_KEY')\n",
    "\n",
    "# Initialize text-to-speech engine\n",
    "engine = pyttsx3.init()\n",
    "engine.setProperty('rate', 150)  # Adjust speech speed\n",
    "\n",
    "def speak(text):\n",
    "    \"\"\"Convert text to speech.\"\"\"\n",
    "    engine.say(text)\n",
    "    engine.runAndWait()\n",
    "\n",
    "def listen():\n",
    "    \"\"\"Capture voice input and convert it to text.\"\"\"\n",
    "    recognizer = sr.Recognizer()\n",
    "    with sr.Microphone() as source:\n",
    "        print(\"Listening...\")\n",
    "        recognizer.adjust_for_ambient_noise(source)  # Improve accuracy\n",
    "        try:\n",
    "            audio = recognizer.listen(source, timeout=5)\n",
    "            return recognizer.recognize_google(audio)\n",
    "        except sr.UnknownValueError:\n",
    "            print(\"Sorry, I couldn't understand that.\")\n",
    "            return None\n",
    "        except sr.RequestError:\n",
    "            print(\"Could not request results. Check your internet connection.\")\n",
    "            return None\n",
    "\n",
    "def chat():\n",
    "    \"\"\"Main chatbot loop with voice and text interaction.\"\"\"\n",
    "    print(\"Hello! I am your AI chatbot. Say 'exit' or type 'exit' to end.\")\n",
    "    speak(\"Hello! I am your AI chatbot. How can I help you?\")\n",
    "\n",
    "    conversation_history = []\n",
    "\n",
    "    while True:\n",
    "        try:\n",
    "            user_input = listen()  # Try voice input first\n",
    "            if user_input is None:\n",
    "                user_input = input(\"You (or type your message): \").strip()\n",
    "\n",
    "            if user_input.lower() == 'exit':\n",
    "                print(\"Goodbye!\")\n",
    "                speak(\"Goodbye!\")\n",
    "                break\n",
    "            \n",
    "            # Append user input to history\n",
    "            conversation_history.append({'role': 'user', 'content': user_input})\n",
    "\n",
    "            # OpenAI chat response\n",
    "            response = openai.ChatCompletion.create(\n",
    "                model=\"gpt-3.5-turbo\",\n",
    "                messages=conversation_history\n",
    "            )\n",
    "\n",
    "            chatbot_response = response['choices'][0]['message']['content']\n",
    "            print(f\"AI Chatbot: {chatbot_response}\")\n",
    "            speak(chatbot_response)  # Voice response\n",
    "\n",
    "            # Append chatbot response to history\n",
    "            conversation_history.append({'role': 'assistant', 'content': chatbot_response})\n",
    "\n",
    "        except KeyboardInterrupt:\n",
    "            print(\"\\nGoodbye!\")\n",
    "            speak(\"Goodbye!\")\n",
    "            break\n",
    "        except Exception as e:\n",
    "            print(f\"Error: {e}\")\n",
    "\n",
    "# Run the chatbot\n",
    "if __name__ == \"__main__\":\n",
    "    chat()"
   ]
  },
  {
   "cell_type": "code",
   "execution_count": null,
   "id": "630cd7fe-a4cf-4583-814c-434c065bf53d",
   "metadata": {},
   "outputs": [],
   "source": []
  },
  {
   "cell_type": "code",
   "execution_count": null,
   "id": "b48c03ff-2d96-47a3-b0ba-9704af504458",
   "metadata": {},
   "outputs": [],
   "source": []
  }
 ],
 "metadata": {
  "kernelspec": {
   "display_name": "Python 3 (ipykernel)",
   "language": "python",
   "name": "python3"
  },
  "language_info": {
   "codemirror_mode": {
    "name": "ipython",
    "version": 3
   },
   "file_extension": ".py",
   "mimetype": "text/x-python",
   "name": "python",
   "nbconvert_exporter": "python",
   "pygments_lexer": "ipython3",
   "version": "3.13.3"
  }
 },
 "nbformat": 4,
 "nbformat_minor": 5
}
