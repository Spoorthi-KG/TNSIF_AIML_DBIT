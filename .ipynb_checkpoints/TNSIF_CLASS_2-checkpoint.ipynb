{
 "cells": [
  {
   "cell_type": "code",
   "execution_count": 4,
   "id": "f9a1a0e7-2d4a-44a8-b506-f9ce3793d9c7",
   "metadata": {},
   "outputs": [
    {
     "name": "stdin",
     "output_type": "stream",
     "text": [
      "Enter a number:  250\n"
     ]
    },
    {
     "name": "stdout",
     "output_type": "stream",
     "text": [
      "Current sum: 250.0\n"
     ]
    },
    {
     "name": "stdin",
     "output_type": "stream",
     "text": [
      "Enter a number:  300\n"
     ]
    },
    {
     "name": "stdout",
     "output_type": "stream",
     "text": [
      "Current sum: 550.0\n",
      "Final sum: 550.0. Sum exceeded 300.\n"
     ]
    }
   ],
   "source": [
    "total_sum = 0\n",
    "while total_sum <= 300:\n",
    "    try:\n",
    "        num = float(input(\"Enter a number: \"))\n",
    "        total_sum += num\n",
    "        print(f\"Current sum: {total_sum}\")\n",
    "    except ValueError:\n",
    "        print(\"Invalid input. Please enter a number.\")\n",
    "print(f\"Final sum: {total_sum}. Sum exceeded 300.\")"
   ]
  },
  {
   "cell_type": "code",
   "execution_count": 6,
   "id": "452fd7a5-0d22-42c9-9dfa-a7fe7094393d",
   "metadata": {},
   "outputs": [
    {
     "name": "stdin",
     "output_type": "stream",
     "text": [
      "Enter a name: SPOORTHI\n"
     ]
    },
    {
     "name": "stdout",
     "output_type": "stream",
     "text": [
      "Consonants in your name: SPRTH\n"
     ]
    }
   ],
   "source": [
    "name = input(\"Enter a name:\")\n",
    "vowels = 'aeiouAEIOU'\n",
    "consonants = ''\n",
    "\n",
    "for char in name:\n",
    "    if char.isalpha() and char not in vowels:\n",
    "        consonants += char\n",
    "\n",
    "print(\"Consonants in your name:\", consonants)\n",
    "    "
   ]
  },
  {
   "cell_type": "code",
   "execution_count": 7,
   "id": "12386c3e-447d-47bc-bc4d-43fab948b66f",
   "metadata": {},
   "outputs": [
    {
     "name": "stdin",
     "output_type": "stream",
     "text": [
      "enter name: SPOORTHI\n"
     ]
    },
    {
     "name": "stdout",
     "output_type": "stream",
     "text": [
      "S\n",
      "P\n",
      "O\n",
      "O\n",
      "R\n",
      "T\n",
      "H\n",
      "I\n"
     ]
    }
   ],
   "source": [
    "n= input(\"enter name:\")\n",
    "for i in n:\n",
    "    if i=='a' or  i=='e' or i=='o' or i=='u':\n",
    "        continue\n",
    "    else:\n",
    "        print(i)\n"
   ]
  },
  {
   "cell_type": "code",
   "execution_count": null,
   "id": "bc29c55e-2b23-419e-8471-e96432d38734",
   "metadata": {},
   "outputs": [],
   "source": []
  }
 ],
 "metadata": {
  "kernelspec": {
   "display_name": "Python 3 (ipykernel)",
   "language": "python",
   "name": "python3"
  },
  "language_info": {
   "codemirror_mode": {
    "name": "ipython",
    "version": 3
   },
   "file_extension": ".py",
   "mimetype": "text/x-python",
   "name": "python",
   "nbconvert_exporter": "python",
   "pygments_lexer": "ipython3",
   "version": "3.13.3"
  }
 },
 "nbformat": 4,
 "nbformat_minor": 5
}
