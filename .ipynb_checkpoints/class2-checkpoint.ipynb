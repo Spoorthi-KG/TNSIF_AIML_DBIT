{
 "cells": [
  {
   "cell_type": "code",
   "execution_count": 17,
   "id": "81f1e1c4-f9f1-4a38-9cde-fa60e4688558",
   "metadata": {},
   "outputs": [
    {
     "name": "stdin",
     "output_type": "stream",
     "text": [
      "Enter a number:  200\n"
     ]
    },
    {
     "name": "stdout",
     "output_type": "stream",
     "text": [
      "Current sum: 200.0\n"
     ]
    },
    {
     "name": "stdin",
     "output_type": "stream",
     "text": [
      "Enter a number:  3000\n"
     ]
    },
    {
     "name": "stdout",
     "output_type": "stream",
     "text": [
      "Current sum: 3200.0\n",
      "Final sum: 3200.0. Sum exceeded 300.\n"
     ]
    }
   ],
   "source": [
    "total_sum = 0\n",
    "while total_sum <= 300:\n",
    "    try:\n",
    "        num = float(input(\"Enter a number: \"))\n",
    "        total_sum += num\n",
    "        print(f\"Current sum: {total_sum}\")\n",
    "    except ValueError:\n",
    "        print(\"Invalid input. Please enter a number.\")\n",
    "print(f\"Final sum: {total_sum}. Sum exceeded 300.\")"
   ]
  },
  {
   "cell_type": "code",
   "execution_count": 16,
   "id": "182665e6-a532-4ec2-afad-64734299239a",
   "metadata": {},
   "outputs": [
    {
     "name": "stdin",
     "output_type": "stream",
     "text": [
      "Enter a string (type 'bon' to quit):  str\n",
      "Enter a string (type 'bon' to quit):  bon\n"
     ]
    },
    {
     "name": "stdout",
     "output_type": "stream",
     "text": [
      "voyage\n"
     ]
    }
   ],
   "source": [
    "\n",
    "    while True:\n",
    "        user_input = input(\"Enter a string (type 'bon' to quit): \")\n",
    "        if user_input == \"bon\":\n",
    "            print(\"voyage\")\n",
    "            break"
   ]
  },
  {
   "cell_type": "code",
   "execution_count": 23,
   "id": "4dc6901d-6584-4c7f-98a9-9b61e0b87aae",
   "metadata": {},
   "outputs": [
    {
     "name": "stdin",
     "output_type": "stream",
     "text": [
      "Enter your door number and street:  24th\n"
     ]
    },
    {
     "name": "stdout",
     "output_type": "stream",
     "text": [
      "Numbers in the input: 24\n"
     ]
    }
   ],
   "source": [
    "user_input = input(\"Enter your door number and street: \")\n",
    "\n",
    "numbers_only = \"\"\n",
    "\n",
    "for char in user_input:\n",
    "    if char.isdigit():\n",
    "        numbers_only += char\n",
    "\n",
    "print(\"Numbers in the input:\",numbers_only)"
   ]
  },
  {
   "cell_type": "code",
   "execution_count": 26,
   "id": "86bfd959-7445-4177-b94e-b85e5812da7f",
   "metadata": {},
   "outputs": [
    {
     "name": "stdout",
     "output_type": "stream",
     "text": [
      "Enter 5 elements:\n"
     ]
    },
    {
     "name": "stdin",
     "output_type": "stream",
     "text": [
      " 1\n",
      " 5\n",
      " 24\n",
      " 3\n",
      " 2\n",
      "Enter your name:  ss\n"
     ]
    },
    {
     "name": "stdout",
     "output_type": "stream",
     "text": [
      "Updated list: ['1', '5', 'ss', '3', 'ss']\n"
     ]
    }
   ],
   "source": [
    "list1 = []\n",
    "print(\"Enter 5 elements:\")\n",
    "for i in range(5):\n",
    "    list1.append(input())\n",
    "\n",
    "name = input(\"Enter your name: \")\n",
    "\n",
    "list1[2] = name\n",
    "list1[4] = name\n",
    "\n",
    "print(\"Updated list:\", list1)"
   ]
  },
  {
   "cell_type": "code",
   "execution_count": 30,
   "id": "680d3a5a-8f50-49cc-9e75-408833f4cbec",
   "metadata": {},
   "outputs": [
    {
     "name": "stdin",
     "output_type": "stream",
     "text": [
      "Enter list items:  1\n",
      "Enter index:  2\n",
      "Enter new element:  red\n"
     ]
    },
    {
     "name": "stdout",
     "output_type": "stream",
     "text": [
      "Error: Index out of range.\n"
     ]
    }
   ],
   "source": [
    "items = input(\"Enter list items: \").split()\n",
    "\n",
    "try:\n",
    "    index = int(input(\"Enter index: \"))\n",
    "    element = input(\"Enter new element: \")\n",
    "\n",
    "    if 0 <= index < len(items):\n",
    "        items[index] = element\n",
    "        print(\"Updated list:\", items)\n",
    "    else:\n",
    "        print(\"Error: Index out of range.\")\n",
    "except ValueError:\n",
    "    print(\"Error: Index must be an integer.\")\n"
   ]
  },
  {
   "cell_type": "code",
   "execution_count": 32,
   "id": "eff6dccf-2e8a-43a4-98cf-bc1b92b6c95c",
   "metadata": {},
   "outputs": [
    {
     "name": "stdin",
     "output_type": "stream",
     "text": [
      "Enter number:  1\n",
      "Enter number:  2\n",
      "Enter number:  5\n",
      "Enter number:  7\n",
      "Enter number:  8\n",
      "Enter number:  9\n",
      "Enter number:  0\n",
      "Enter number:  4\n",
      "Enter number:  3\n",
      "Enter number:  6\n"
     ]
    },
    {
     "name": "stdout",
     "output_type": "stream",
     "text": [
      "Final list: [2, 8, 0, 4, 6]\n"
     ]
    }
   ],
   "source": [
    "nums = [int(input(\"Enter number: \")) for _ in range(10)]\n",
    "nums.pop(2)  \n",
    "i = len(nums) - 1\n",
    "while i >= 0:\n",
    "    if nums[i] % 2 != 0:\n",
    "        nums.pop(i)\n",
    "    i -= 1\n",
    "print(\"Final list:\", nums)"
   ]
  },
  {
   "cell_type": "code",
   "execution_count": 33,
   "id": "1b67b5f5-93c9-41df-8730-a100961a811e",
   "metadata": {},
   "outputs": [
    {
     "name": "stdout",
     "output_type": "stream",
     "text": [
      "['p', 'd', 'a', 'f', 'a', 'n']\n",
      "['n', 'f', 'a', 'd', 'p']\n"
     ]
    }
   ],
   "source": [
    "k = ['a', 'p', 'd', 'a', 'f', 'a', 'n']\n",
    "k.remove('a')\n",
    "print(k)\n",
    "k.reverse()\n",
    "k.remove('a')\n",
    "print(k)"
   ]
  },
  {
   "cell_type": "code",
   "execution_count": null,
   "id": "9b6bf938-9423-4b8b-8c19-3e91b83ec73f",
   "metadata": {},
   "outputs": [],
   "source": []
  }
 ],
 "metadata": {
  "kernelspec": {
   "display_name": "Python 3 (ipykernel)",
   "language": "python",
   "name": "python3"
  },
  "language_info": {
   "codemirror_mode": {
    "name": "ipython",
    "version": 3
   },
   "file_extension": ".py",
   "mimetype": "text/x-python",
   "name": "python",
   "nbconvert_exporter": "python",
   "pygments_lexer": "ipython3",
   "version": "3.13.3"
  }
 },
 "nbformat": 4,
 "nbformat_minor": 5
}
