{
 "cells": [
  {
   "cell_type": "code",
   "execution_count": null,
   "id": "d9e0f082-ebc3-4981-9c07-c513d3019ce7",
   "metadata": {},
   "outputs": [],
   "source": [
    "phonebook={\"harry\": 9764537343, \"seema\":987655464, \"ria\":746546457, \"thomas\":745635465}\n",
    "print(phonebook)\n",
    "\n"
   ]
  }
 ],
 "metadata": {
  "kernelspec": {
   "display_name": "Python 3 (ipykernel)",
   "language": "python",
   "name": "python3"
  },
  "language_info": {
   "codemirror_mode": {
    "name": "ipython",
    "version": 3
   },
   "file_extension": ".py",
   "mimetype": "text/x-python",
   "name": "python",
   "nbconvert_exporter": "python",
   "pygments_lexer": "ipython3",
   "version": "3.13.3"
  }
 },
 "nbformat": 4,
 "nbformat_minor": 5
}
