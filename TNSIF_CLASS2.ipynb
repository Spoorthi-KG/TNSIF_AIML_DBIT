{
 "cells": [
  {
   "cell_type": "code",
   "execution_count": 2,
   "id": "f9a1a0e7-2d4a-44a8-b506-f9ce3793d9c7",
   "metadata": {},
   "outputs": [
    {
     "name": "stdin",
     "output_type": "stream",
     "text": [
      "Enter a number:  300\n"
     ]
    },
    {
     "name": "stdout",
     "output_type": "stream",
     "text": [
      "Current sum: 300.0\n"
     ]
    },
    {
     "name": "stdin",
     "output_type": "stream",
     "text": [
      "Enter a number:  200\n"
     ]
    },
    {
     "name": "stdout",
     "output_type": "stream",
     "text": [
      "Current sum: 500.0\n",
      "Final sum: 500.0. Sum exceeded 300.\n"
     ]
    }
   ],
   "source": [
    "total_sum = 0\n",
    "while total_sum <= 300:\n",
    "    try:\n",
    "        num = float(input(\"Enter a number: \"))\n",
    "        total_sum += num\n",
    "        print(f\"Current sum: {total_sum}\")\n",
    "    except ValueError:\n",
    "        print(\"Invalid input. Please enter a number.\")\n",
    "print(f\"Final sum: {total_sum}. Sum exceeded 300.\")"
   ]
  },
  {
   "cell_type": "code",
   "execution_count": 6,
   "id": "452fd7a5-0d22-42c9-9dfa-a7fe7094393d",
   "metadata": {},
   "outputs": [
    {
     "name": "stdin",
     "output_type": "stream",
     "text": [
      "Enter a name: SPOORTHI\n"
     ]
    },
    {
     "name": "stdout",
     "output_type": "stream",
     "text": [
      "Consonants in your name: SPRTH\n"
     ]
    }
   ],
   "source": [
    "name = input(\"Enter a name:\")\n",
    "vowels = 'aeiouAEIOU'\n",
    "consonants = ''\n",
    "\n",
    "for char in name:\n",
    "    if char.isalpha() and char not in vowels:\n",
    "        consonants += char\n",
    "\n",
    "print(\"Consonants in your name:\", consonants)\n",
    "    "
   ]
  },
  {
   "cell_type": "code",
   "execution_count": 7,
   "id": "12386c3e-447d-47bc-bc4d-43fab948b66f",
   "metadata": {},
   "outputs": [
    {
     "name": "stdin",
     "output_type": "stream",
     "text": [
      "enter name: SPOORTHI\n"
     ]
    },
    {
     "name": "stdout",
     "output_type": "stream",
     "text": [
      "S\n",
      "P\n",
      "O\n",
      "O\n",
      "R\n",
      "T\n",
      "H\n",
      "I\n"
     ]
    }
   ],
   "source": [
    "n= input(\"enter name:\")\n",
    "for i in n:\n",
    "    if i=='a' or  i=='e' or i=='o' or i=='u':\n",
    "        continue\n",
    "    else:\n",
    "        print(i)\n"
   ]
  },
  {
   "cell_type": "code",
   "execution_count": 3,
   "id": "bc29c55e-2b23-419e-8471-e96432d38734",
   "metadata": {},
   "outputs": [
    {
     "name": "stdin",
     "output_type": "stream",
     "text": [
      "Enter a string (type 'bon' to quit):  string\n",
      "Enter a string (type 'bon' to quit):  bon\n"
     ]
    },
    {
     "name": "stdout",
     "output_type": "stream",
     "text": [
      "voyage\n"
     ]
    }
   ],
   "source": [
    "while True:\n",
    "        user_input = input(\"Enter a string (type 'bon' to quit): \")\n",
    "        if user_input == \"bon\":\n",
    "            print(\"voyage\")\n",
    "            break"
   ]
  },
  {
   "cell_type": "code",
   "execution_count": 4,
   "id": "0d200474-f32e-423d-ac27-82af1c3b54a6",
   "metadata": {},
   "outputs": [
    {
     "name": "stdin",
     "output_type": "stream",
     "text": [
      "Enter your door number and street:  #5302/B 24th street\n"
     ]
    },
    {
     "name": "stdout",
     "output_type": "stream",
     "text": [
      "Numbers in the input: 530224\n"
     ]
    }
   ],
   "source": [
    "user_input = input(\"Enter your door number and street: \")\n",
    "\n",
    "numbers_only = \"\"\n",
    "\n",
    "for char in user_input:\n",
    "    if char.isdigit():\n",
    "        numbers_only += char\n",
    "\n",
    "print(\"Numbers in the input:\",numbers_only)"
   ]
  },
  {
   "cell_type": "code",
   "execution_count": 5,
   "id": "07b563e3-5647-4072-9b53-45809614770a",
   "metadata": {},
   "outputs": [
    {
     "name": "stdin",
     "output_type": "stream",
     "text": [
      "Enter your address: #5403/B\n"
     ]
    },
    {
     "name": "stdout",
     "output_type": "stream",
     "text": [
      "5\n",
      "4\n",
      "0\n",
      "3\n"
     ]
    }
   ],
   "source": [
    "address = input(\"Enter your address:\")\n",
    "\n",
    "for char in address:\n",
    "    if char >= '0' and char <= '9':\n",
    "        print(char)\n",
    "    else:\n",
    "        continue"
   ]
  },
  {
   "cell_type": "code",
   "execution_count": 6,
   "id": "c95dc662-a788-40e3-bc4a-71104c499a5a",
   "metadata": {},
   "outputs": [
    {
     "name": "stdout",
     "output_type": "stream",
     "text": [
      "Enter 5 elements:\n"
     ]
    },
    {
     "name": "stdin",
     "output_type": "stream",
     "text": [
      " 24\n",
      " 5\n",
      " 22\n",
      " 3\n",
      " 8\n",
      "Enter your name:  SPOORTHI\n"
     ]
    },
    {
     "name": "stdout",
     "output_type": "stream",
     "text": [
      "['24', '5', 'SPOORTHI', '3', 'SPOORTHI']\n"
     ]
    }
   ],
   "source": [
    "list1 = []\n",
    "print(\"Enter 5 elements:\")\n",
    "for i in range(5):\n",
    "    list1.append(input())\n",
    "\n",
    "name = input(\"Enter your name: \")\n",
    "\n",
    "list1[2] = name\n",
    "list1[4] = name\n",
    "\n",
    "print(list1)"
   ]
  },
  {
   "cell_type": "code",
   "execution_count": 7,
   "id": "301ab8ba-5357-464e-ab38-4c2107529772",
   "metadata": {},
   "outputs": [
    {
     "name": "stdin",
     "output_type": "stream",
     "text": [
      "Enter elements:  5\n",
      "Enter elements:  6\n",
      "Enter elements:  8\n",
      "Enter elements:  3\n",
      "Enter elements:  2\n",
      "Enter index:  1\n",
      "Enter new element:  mango\n"
     ]
    },
    {
     "name": "stdout",
     "output_type": "stream",
     "text": [
      "Inserted 'mango' at index 1\n",
      "Updated list: ['5', 'mango', '6', '8', '3', '2']\n"
     ]
    }
   ],
   "source": [
    "elements=[]\n",
    "for i in range(5):\n",
    "    item = input(\"Enter elements: \")\n",
    "    elements.append(item)\n",
    "index = int(input(\"Enter index: \"))\n",
    "element1 = input(\"Enter new element: \")\n",
    "\n",
    "if 0 <= index < len(elements):\n",
    "        elements.insert(index, element1)\n",
    "        print(f\"Inserted '{element1}' at index {index}\")\n",
    "print(\"Updated list:\", elements)"
   ]
  }
 ],
 "metadata": {
  "kernelspec": {
   "display_name": "Python 3 (ipykernel)",
   "language": "python",
   "name": "python3"
  },
  "language_info": {
   "codemirror_mode": {
    "name": "ipython",
    "version": 3
   },
   "file_extension": ".py",
   "mimetype": "text/x-python",
   "name": "python",
   "nbconvert_exporter": "python",
   "pygments_lexer": "ipython3",
   "version": "3.13.3"
  }
 },
 "nbformat": 4,
 "nbformat_minor": 5
}
