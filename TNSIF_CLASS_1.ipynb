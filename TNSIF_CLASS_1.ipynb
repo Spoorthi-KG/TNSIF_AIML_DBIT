{
 "cells": [
  {
   "cell_type": "code",
   "execution_count": 1,
   "id": "c41a4efb-bc7e-4a18-99c0-6f5213bd2ec1",
   "metadata": {},
   "outputs": [
    {
     "name": "stdin",
     "output_type": "stream",
     "text": [
      "Enter PIN:  12\n"
     ]
    },
    {
     "name": "stdout",
     "output_type": "stream",
     "text": [
      "Wrong PIN\n"
     ]
    },
    {
     "name": "stdin",
     "output_type": "stream",
     "text": [
      "Enter PIN:  1234\n"
     ]
    },
    {
     "name": "stdout",
     "output_type": "stream",
     "text": [
      "\n",
      "1.Check Balance\n",
      "2.Deposit\n",
      "3.Withdraw\n",
      "4.Exit\n"
     ]
    },
    {
     "name": "stdin",
     "output_type": "stream",
     "text": [
      "Choose:  1\n"
     ]
    },
    {
     "name": "stdout",
     "output_type": "stream",
     "text": [
      "Balance: ₹ 1000\n",
      "\n",
      "1.Check Balance\n",
      "2.Deposit\n",
      "3.Withdraw\n",
      "4.Exit\n"
     ]
    },
    {
     "name": "stdin",
     "output_type": "stream",
     "text": [
      "Choose:  2\n",
      "Deposit: ₹ 500\n"
     ]
    },
    {
     "name": "stdout",
     "output_type": "stream",
     "text": [
      "\n",
      "1.Check Balance\n",
      "2.Deposit\n",
      "3.Withdraw\n",
      "4.Exit\n"
     ]
    },
    {
     "name": "stdin",
     "output_type": "stream",
     "text": [
      "Choose:  3\n",
      "Withdraw: ₹ 100\n"
     ]
    },
    {
     "name": "stdout",
     "output_type": "stream",
     "text": [
      "\n",
      "1.Check Balance\n",
      "2.Deposit\n",
      "3.Withdraw\n",
      "4.Exit\n"
     ]
    },
    {
     "name": "stdin",
     "output_type": "stream",
     "text": [
      "Choose:  4\n"
     ]
    },
    {
     "name": "stdout",
     "output_type": "stream",
     "text": [
      "Bye!\n"
     ]
    }
   ],
   "source": [
    "pin = \"1234\"\n",
    "balance = 1000\n",
    "tries = 0\n",
    "\n",
    "while tries < 3:\n",
    "    if input(\"Enter PIN: \") == pin:\n",
    "        while True:\n",
    "            print(\"\\n1.Check Balance\\n2.Deposit\\n3.Withdraw\\n4.Exit\")\n",
    "            match int(input(\"Choose: \")):\n",
    "                case 1: print(\"Balance: ₹\", balance)\n",
    "                case 2: \n",
    "                    amt = int(input(\"Deposit: ₹\")); balance += amt\n",
    "                case 3: \n",
    "                    amt = int(input(\"Withdraw: ₹\"))\n",
    "                    balance = balance - amt if amt <= balance else print(\"No funds\") or balance\n",
    "                case 4: print(\"Bye!\"); break\n",
    "                case _: print(\"Invalid\")\n",
    "        break\n",
    "    else:\n",
    "        tries += 1\n",
    "        print(\"Wrong PIN\")\n",
    "\n",
    "if tries == 3:\n",
    "    print(\"Card blocked\")\n"
   ]
  },
  {
   "cell_type": "code",
   "execution_count": null,
   "id": "2966d7bc-ebe8-4313-a20e-2c9a20ef52ae",
   "metadata": {},
   "outputs": [],
   "source": []
  }
 ],
 "metadata": {
  "kernelspec": {
   "display_name": "Python 3 (ipykernel)",
   "language": "python",
   "name": "python3"
  },
  "language_info": {
   "codemirror_mode": {
    "name": "ipython",
    "version": 3
   },
   "file_extension": ".py",
   "mimetype": "text/x-python",
   "name": "python",
   "nbconvert_exporter": "python",
   "pygments_lexer": "ipython3",
   "version": "3.13.3"
  }
 },
 "nbformat": 4,
 "nbformat_minor": 5
}
