{
 "cells": [
  {
   "cell_type": "code",
   "execution_count": 2,
   "id": "36907451-bc03-48d8-af31-d7bcc7a3d8c1",
   "metadata": {},
   "outputs": [
    {
     "name": "stdin",
     "output_type": "stream",
     "text": [
      "Enter number of employees:  5\n",
      "Enter salary:  3400\n",
      "Enter salary:  1500\n",
      "Enter salary:  45000\n",
      "Enter salary:  30000\n",
      "Enter salary:  40000\n"
     ]
    },
    {
     "name": "stdout",
     "output_type": "stream",
     "text": [
      "Min salary: 1500.0\n",
      "Max salary: 45000.0\n"
     ]
    }
   ],
   "source": [
    "n = int(input(\"Enter number of employees: \"))\n",
    "salaries = [float(input(\"Enter salary: \")) for _ in range(n)]\n",
    "print(\"Min salary:\", min(salaries))\n",
    "print(\"Max salary:\", max(salaries))"
   ]
  },
  {
   "cell_type": "code",
   "execution_count": 5,
   "id": "207de122-8c7f-4a78-8117-fe2ded4e711c",
   "metadata": {},
   "outputs": [
    {
     "name": "stdin",
     "output_type": "stream",
     "text": [
      "Enter number of employees:  1\n",
      "Enter name:  mohan\n",
      "Enter number:  40000\n"
     ]
    },
    {
     "name": "stdout",
     "output_type": "stream",
     "text": [
      "\n",
      "Employee Name and Number:\n",
      "mohan: 40000\n"
     ]
    }
   ],
   "source": [
    "employees = {}\n",
    "n = int(input(\"Enter number of employees: \"))\n",
    "\n",
    "for _ in range(n):\n",
    "    name = input(\"Enter name: \")\n",
    "    num = input(\"Enter number: \")\n",
    "    employees[name] = num\n",
    "\n",
    "print(\"\\nEmployee Name and Number:\")\n",
    "for name, num in employees.items():\n",
    "    print(f\"{name}: {num}\")"
   ]
  },
  {
   "cell_type": "code",
   "execution_count": null,
   "id": "5cb0a689-0eb8-4cfa-acbe-bb3f43047c88",
   "metadata": {},
   "outputs": [],
   "source": []
  }
 ],
 "metadata": {
  "kernelspec": {
   "display_name": "Python 3 (ipykernel)",
   "language": "python",
   "name": "python3"
  },
  "language_info": {
   "codemirror_mode": {
    "name": "ipython",
    "version": 3
   },
   "file_extension": ".py",
   "mimetype": "text/x-python",
   "name": "python",
   "nbconvert_exporter": "python",
   "pygments_lexer": "ipython3",
   "version": "3.13.3"
  }
 },
 "nbformat": 4,
 "nbformat_minor": 5
}
